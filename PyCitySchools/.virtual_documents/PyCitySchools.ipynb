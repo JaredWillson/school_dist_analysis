


# Dependencies and Setup
import pandas as pd
from pathlib import Path

# Files to Load, one that just all the data at a "school" level
# And one that shows each individual student's results and info
# Across all schools
school_data_to_load = Path('Resources/schools_complete.csv')
student_data_to_load = Path('Resources/students_complete.csv')

# Read School and Student Data File and store into Pandas DataFrames
school_data = pd.read_csv(school_data_to_load)
student_data = pd.read_csv(student_data_to_load)

# Combine the data into a single dataset.
school_data_complete = pd.merge(student_data, school_data, 'left', 'school_name')
school_data_complete.head()





# Calculate the total number of unique schools
# ---------------------------------------------
# Decided to use the new school_data_complete dataframe to perform the calculations
# even though it would have been simpler to just count the rows in the school_data
# since no 'unique' qualifier would have been required.  This approach seemed more
# in line with the intent of the assignment--analyzing data by slicing and dicing

school_count = len(school_data_complete['school_name'].unique())
school_count


# Calculate the total number of students
# --------------------------------------
# Since there is exactly one student per row in the school_data_complete dataframe
# The number of rows in the dataframe is also the number of students.
# I confirmed this by both counting the rows, and by checking the unique
# student ID's contained in the dataframe using the following:
#
# student_count = len(school_data_complete['Student ID'].unique())
# 
# Since the result was the same, I used the simpler code below.

student_count = len(school_data_complete)
student_count


# Calculate the total budget
# -----------------------------
# The total budget is simply the sum of the individual school budgets.
# In our school_data_complete dataframe, the school budget is repeated on each student's 
# row, so a simple solution is to group by the school names, then grab the first row
# from each group by and sum up the 'budget' column totals.
# Again, this would be easier to do just using the school_data dataframe, but that
# didn't seem in keeping with the intent of the exercise.

total_budget = school_data_complete.groupby(['school_name']).first().sum().loc['budget']
total_budget


# Calculate the average (mean) math score
# ---------------------------------------
# Since each row in the school_data_complete dataframe represents exactly one student,
# The average is obtained by just calculating the mean of the 'math_score' column

average_math_score = school_data_complete['math_score'].mean()
average_math_score


# Calculate the average (mean) reading score
# ------------------------------------------
# Same approach as for the math score, but using a different column...

average_reading_score = school_data_complete['reading_score'].mean()
average_reading_score


# Use the following to calculate the percentage of students who passed math (math scores greather than or equal to 70)
# -----------------------------------------------------
# I made one change to the supplied cod... I substituted 'Student ID' for 'student name'. I did this because
# ID's are much more likely to be unique than names. In practice, for this particular calculation, it makes
# no difference to the final result since even duplicate names would be counted, but it seemed a better pracie
# in case we were using something like .unique rather than .count

passing_math_count = school_data_complete[(school_data_complete['math_score'] >= 70)].count()['Student ID']
passing_math_percentage = passing_math_count / float(student_count) * 100
passing_math_percentage


# Calculate the percentage of students who passed reading (hint: look at how the math percentage was calculated)
# ---------------------------------------------------------------------------------------------------------------
# Identical to preceeding calculation, just substituting in the 'reading_score' column. Everything else is the same.
passing_reading_count = school_data_complete[(school_data_complete['reading_score'] >= 70)].count()['Student ID']
passing_reading_percentage = passing_reading_count / float(student_count) * 100
passing_reading_percentage


# Use the following to calculate the percentage of students that passed math and reading
passing_math_reading_count = school_data_complete[
    (school_data_complete['math_score'] >= 70) & (school_data_complete['reading_score'] >= 70)
].count()['Student ID']
overall_passing_rate = passing_math_reading_count /  float(student_count) * 100
overall_passing_rate


# Create a high-level snapshot of the district's key metrics in a DataFrame
district_summary = pd.DataFrame({'Total Schools': school_count, 'Total Students': student_count, 
                                 'Total Budget': total_budget, 'Average Math Score': average_math_score,
                                 'Average Reading Score': average_reading_score, '% Passing Math': passing_math_percentage,
                                 '% Passing Reading': passing_reading_percentage, '% Overall Passing': overall_passing_rate}, 
                                index=['District Summary'])

# Formatting
district_summary['Total Students'] = district_summary['Total Students'].map('{:,}'.format)
district_summary['Total Budget'] = district_summary['Total Budget'].map('${:,.2f}'.format)

# Display the DataFrame
district_summary






# Use the code provided to select the type per school from school_data
school_types = school_data.set_index(['school_name'])['type']


# Calculate the total student count per school from school_data
# -------------------------------------------------------------
# groupby.size provides the total number of rows in each group, so
# by running a groupby on the school_data_complete and then returning the .size, meaning the number of rows,
# we actually get the student count for each school. 
per_school_counts = school_data_complete.groupby('school_name').size().rename('Total Students')


# Calculate the total school budget and per capita spending per school from school_data
# ---------------------------------------------------------------------------------------
# We can just grab the school name and budget columns out of the school_data table,
# set the index equal to the school name, and then make sure we don't leave both an index
# and a column for school budget. 
# I wanted to get the school name into the index for our dataframe for easier merging/joining
# It probably would have been simpler to use concat since I could easily grab multiple
# dataframes, but I this was already working, so I left it alone as it gets the desired result
per_school_budget = school_data[['school_name', 'budget']].set_index('school_name', drop=True)
per_school_capita = per_school_budget.merge(per_school_counts, how='left', on='school_name')
per_school_capita['Per Capita'] = per_school_capita['budget'] / per_school_capita['Total Students']

# Minor formatting--dropping the index name to make my result match the expected result more exactly
# in appearance later in the assignment
per_school_capita.index.name = None


# Calculate the average test scores per school from school_data_complete
# ------------------------------------------------------------------------
# The average test scoe is just the mean of each school name in dataset, so
# groupby school name, then return the mean math score

per_school_math = school_data_complete.groupby(['school_name'])['math_score'].mean()
per_school_reading = school_data_complete.groupby(['school_name'])['reading_score'].mean()


# Calculate the number of students per school with math scores of 70 or higher from school_data_complete
# ----------------------------------------------
# To get the number of students, we just need to filter out the failing students, 
# then get the size (number of rows) of each school using the groupby function.

students_passing_math = school_data_complete[(school_data_complete['math_score'] >= 70)]
school_students_passing_math = students_passing_math.groupby(['school_name']).size()


# Calculate the number of students per school with reading scores of 70 or higher from school_data_complete
# ----------------------------------------------
# Same process as for the passing math scores above.

students_passing_reading = school_data_complete[(school_data_complete['reading_score'] >= 70)]
school_students_passing_reading = students_passing_reading.groupby(['school_name']).size()


# Use the provided code to calculate the number of students per school that passed both math and reading with scores of 70 or higher
students_passing_math_and_reading = school_data_complete[
    (school_data_complete["reading_score"] >= 70) & (school_data_complete["math_score"] >= 70)
]
school_students_passing_math_and_reading = students_passing_math_and_reading.groupby(["school_name"]).size()


# Use the provided code to calculate the passing rates
per_school_passing_math = (school_students_passing_math / per_school_counts * 100)
per_school_passing_reading = school_students_passing_reading / per_school_counts * 100
overall_passing_rate = school_students_passing_math_and_reading / per_school_counts * 100

# I added some simple naming to make it easier to build my dataframe with recognizable results in the next section.
per_school_passing_math.name = 'Passing Math'
per_school_passing_reading.name = 'Passing Reading'
overall_passing_rate.name = 'Overall Passing'


# Create a DataFrame called `per_school_summary` with columns for the calculations above.
# ----------------------------------------------------------------
# For putting multiple series together into a dataframe, the concat function seems to have simpler
# syntax than the merge function, so that is the approach I took. 

per_school_summary = pd.concat([school_types, per_school_counts, per_school_budget,
                                per_school_capita['Per Capita'], per_school_math,
                                per_school_reading, per_school_passing_math,
                                per_school_passing_reading, overall_passing_rate], axis=1)

# This got me the dataframe I needed, but the column names need some work to match the expected result.
per_school_summary.rename(columns={'type': 'School Type', 'budget': 'Total School Budget', 
                                   'Per Capita': 'Per Student Budget', 'math_score': 'Average Math Score',
                                   'reading_score': 'Average Reading Score', 'Passing Math': '% Passing Math', 'Passing Reading': '% Passing Reading',
                                   'Overall Passing': '% Overall Passing'}, inplace=True)
per_school_summary.sort_index(inplace=True)

# Currency formatting for the overall and per student budgetcolumns...
per_school_summary["Total School Budget"] = per_school_summary["Total School Budget"].map("${:,.2f}".format)
per_school_summary["Per Student Budget"] = per_school_summary["Per Student Budget"].map("${:,.2f}".format)

# Display the DataFrame
per_school_summary





# Sort the schools by `% Overall Passing` in descending order and display the top 5 rows.
# ----------------------------------------------------------
# approach for this is pretty straightforward as we already have the exact data we need, it just needs
# to be sorted using the sort_values functionality which allows us to sort on a numeric column
# Since we need it in decending order, we set the parameter to 'ascending=False' as that is equivalent
# to decending.

top_schools = per_school_summary.sort_values(by=['% Overall Passing'], ascending=False)
top_schools.index.name = None
top_schools.head(5)





# Sort the schools by `% Overall Passing` in ascending order and display the top 5 rows.
# ----------------------------------------------------------
# Same as above, except we want to sort using ascending=True. Since that is the default,
# we just need to remove the parameter

bottom_schools = per_school_summary.sort_values(by=['% Overall Passing'])
bottom_schools.index.name = None
bottom_schools.head(5)





# Use the code provided to separate the data by grade
# ----------------------------------------------------
# We first split the complete data set into four different dataframes, one for each grade

ninth_graders = school_data_complete[(school_data_complete["grade"] == "9th")]
tenth_graders = school_data_complete[(school_data_complete["grade"] == "10th")]
eleventh_graders = school_data_complete[(school_data_complete["grade"] == "11th")]
twelfth_graders = school_data_complete[(school_data_complete["grade"] == "12th")]

# Group by `school_name` and take the mean of the `math_score` column for each.
# -------------------------------------------------------------------------------
# Then we grab the average math scores for each of the grades using the same technique as above when
# we calculated math scores by school, but now applying it to just one grade at a time
# I added the .rename for each series so we wouldn't need to worry later about naming each column
# in the dataframe we are building

ninth_grade_math_scores = ninth_graders.groupby('school_name')['math_score'].mean().rename('9th')
tenth_grader_math_scores = tenth_graders.groupby('school_name')['math_score'].mean().rename('10th')
eleventh_grader_math_scores = eleventh_graders.groupby('school_name')['math_score'].mean().rename('11th')
twelfth_grader_math_scores = twelfth_graders.groupby('school_name')['math_score'].mean().rename('12th')

# Combine each of the scores above into single DataFrame called `math_scores_by_grade`

# Now we will pass the pd.concat function a list of our different series of scores to build 
# a dataframe by school with each column being a distinct grade.
math_scores_by_grade = pd.concat([ninth_grade_math_scores, tenth_grader_math_scores, eleventh_grader_math_scores,
                                  twelfth_grader_math_scores], axis=1)

# Minor data wrangling
math_scores_by_grade.index.name = None

# Display the DataFrame
math_scores_by_grade






# Use the code provided to separate the data by grade
# -----------------------------------------------------
# We then use the exact same approach as above, but 
ninth_graders = school_data_complete[(school_data_complete["grade"] == "9th")]
tenth_graders = school_data_complete[(school_data_complete["grade"] == "10th")]
eleventh_graders = school_data_complete[(school_data_complete["grade"] == "11th")]
twelfth_graders = school_data_complete[(school_data_complete["grade"] == "12th")]

# Group by `school_name` and take the mean of the the `reading_score` column for each.
ninth_grade_reading_scores = ninth_graders.groupby('school_name')['reading_score'].mean().rename('9th')
tenth_grader_reading_scores = tenth_graders.groupby('school_name')['reading_score'].mean().rename('10th')
eleventh_grader_reading_scores = eleventh_graders.groupby('school_name')['reading_score'].mean().rename('11th')
twelfth_grader_reading_scores = twelfth_graders.groupby('school_name')['reading_score'].mean().rename('12th')

# Combine each of the scores above into single DataFrame called `reading_scores_by_grade`
reading_scores_by_grade = pd.concat([ninth_grade_reading_scores, tenth_grader_reading_scores, eleventh_grader_reading_scores,
                                  twelfth_grader_reading_scores], axis=1)

# Minor data wrangling
# I commented this next line out, since I had already performed the naming above in the 'Groupby' statements
# -------- reading_scores_by_grade = reading_scores_by_grade[["9th", "10th", "11th", "12th"]]----------
# so we are left with just removing the index name to make the formatting look nicer
reading_scores_by_grade.index.name = None

# Display the DataFrame
reading_scores_by_grade





# Establish the bins
spending_bins = [0, 585, 630, 645, 680]
labels = ["<$585", "$585-630", "$630-645", "$645-680"]



# Create a copy of the school summary since it has the "Per Student Budget"
school_spending_df = per_school_summary.copy()



# Use `pd.cut` to categorize spending based on the bins.
# --------------------------------------------------------
# We want to show our usual dataset by school, except add a column showing which bucket of spending
# a given school falls into. 

school_spending_df["Spending Ranges (Per Student)"] = pd.cut(x=per_school_capita['Per Capita'],
                                                                             bins = spending_bins, labels = labels)

school_spending_df


#  Calculate averages for the desired columns.
# -----------------------------------------------
# I added the 'observed=False' to get rid of the warning message that in a future version of pandas, the default value will be True

spending_math_scores = school_spending_df.groupby(["Spending Ranges (Per Student)"], observed=False)["Average Math Score"].mean()
spending_reading_scores = school_spending_df.groupby(["Spending Ranges (Per Student)"], observed=False)["Average Reading Score"].mean()
spending_passing_math = school_spending_df.groupby(["Spending Ranges (Per Student)"], observed=False)["% Passing Math"].mean()
spending_passing_reading = school_spending_df.groupby(["Spending Ranges (Per Student)"], observed=False)["% Passing Reading"].mean()
overall_passing_spending = school_spending_df.groupby(["Spending Ranges (Per Student)"], observed=False)["% Overall Passing"].mean()


# Assemble into DataFrame
# -----------------------------
# We can simply build our dataframe by concatenating the series we just created across rows.

spending_summary = pd.concat([spending_math_scores, spending_reading_scores, spending_passing_math, 
                                   spending_passing_reading, overall_passing_spending], axis=1)

# Display results
spending_summary





# Establish the bins.
size_bins = [0, 1000, 2000, 5000]
labels = ["Small (<1000)", "Medium (1000-2000)", "Large (2000-5000)"]



# Categorize the spending based on the bins
# Use `pd.cut` on the "Total Students" column of the `per_school_summary` DataFrame.
# -------------------------------------------------
# This is the exact same process as the scores by spending, excpet running the comparison by school size. 
# First step is to split the schols into small, medium, and large buckets by student count

per_school_summary["School Size"] = pd.cut(x=per_school_summary['Total Students'],
                                                                             bins = size_bins, labels = labels)
per_school_summary



# Calculate averages for the desired columns.
# --------------------------------------
# Again, removed the warning message by adding the explicit 'observed=False' parameter

size_math_scores = per_school_summary.groupby(["School Size"], observed=False)["Average Math Score"].mean()
size_reading_scores = per_school_summary.groupby(["School Size"], observed=False)["Average Reading Score"].mean()
size_passing_math = per_school_summary.groupby(["School Size"], observed=False)["% Passing Math"].mean()
size_passing_reading = per_school_summary.groupby(["School Size"], observed=False)["% Passing Reading"].mean()
size_overall_passing = per_school_summary.groupby(["School Size"], observed=False)["% Overall Passing"].mean()



# Create a DataFrame called `size_summary` that breaks down school performance based on school size (small, medium, or large).
# Use the scores above to create a new DataFrame called `size_summary`
size_summary = pd.concat([size_math_scores, size_reading_scores, size_passing_math, 
                                   size_passing_reading, size_overall_passing], axis=1)

# Display results
size_summary





# Group the per_school_summary DataFrame by "School Type" and average the results.
average_math_score_by_type = per_school_summary.groupby(["School Type"], observed=False)["Average Math Score"].mean()
average_reading_score_by_type = per_school_summary.groupby(["School Type"], observed=False)["Average Reading Score"].mean()
average_percent_passing_math_by_type = per_school_summary.groupby(["School Type"], observed=False)["% Passing Math"].mean()
average_percent_passing_reading_by_type = per_school_summary.groupby(["School Type"], observed=False)["% Passing Reading"].mean()
average_percent_overall_passing_by_type = per_school_summary.groupby(["School Type"], observed=False)["% Overall Passing"].mean()


# Assemble the new data by type into a DataFrame called `type_summary`
type_summary = pd.concat([average_math_score_by_type, average_reading_score_by_type, average_percent_passing_math_by_type, 
                                   average_percent_passing_reading_by_type, average_percent_overall_passing_by_type], axis=1)

# Display results
type_summary
